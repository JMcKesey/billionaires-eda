{
 "cells": [
  {
   "cell_type": "markdown",
   "metadata": {},
   "source": [
    "# 💸Billionaire Booms: A Country-Wise Analysis\n",
    "---\n",
    "In the realm of global economics, the prevalence of billionaires becomes a captivating lens through which we can explore a fundamental question: Why do certain countries harbor a greater number of billionaires than others? This data science project delves into a rich dataset encompassing population dynamics, Consumer Price Index (CPI) changes, tax revenue, and more, seeking to unravel the nuanced factors that contribute to the concentration of extreme wealth in specific nations.\n",
    "\n",
    "Beyond the numerical exploration lies a qualitative journey into the economic and policy landscapes that shape the billionaire phenomenon. By examining the intricate interplay between demographic structures, economic indicators, and government policies, we aim to provide insights that transcend statistical trends. Our pursuit is not only to discern \"what\" drives higher billionaire counts but, more importantly, to understand the \"why\" behind the disparities in extreme wealth across diverse countries.\n",
    "\n",
    "Join us in this analytical endeavor as we navigate the data-driven terrain, aiming to shed light on the complex dynamics that define why certain countries stand out with a higher prevalence of billionaires.<sup>1</sup>\n",
    "\n",
    "## ⏳ Dataset\n",
    "---\n",
    "* Download the dataset and make sure it's in the same repository as the ipynb file\n",
    "* https://www.kaggle.com/datasets/nelgiriyewithana/billionaires-statistics-dataset\n",
    "\n",
    "\n",
    "## ⚙️ Setup for additional packages\n",
    "---\n",
    "1. Install seaborn :-\n",
    "\n",
    "```py \n",
    "pip install seaborn\n",
    "```\n",
    "\n",
    "2. Install plotly :-\n",
    "\n",
    "```py\n",
    "pip install plotly\n",
    "```\n",
    "\n",
    "## 🧑🏾‍💻 Contributors\n",
    "---\n",
    "* Jonathan McKesey (100863402)\n",
    "\n",
    "## 📗 Process\n",
    "---\n",
    "\n",
    "### Step 1: 🔃 Data Loading & Module import Imports\n"
   ]
  },
  {
   "cell_type": "code",
   "execution_count": 26,
   "metadata": {},
   "outputs": [
    {
     "data": {
      "text/html": [
       "<div>\n",
       "<style scoped>\n",
       "    .dataframe tbody tr th:only-of-type {\n",
       "        vertical-align: middle;\n",
       "    }\n",
       "\n",
       "    .dataframe tbody tr th {\n",
       "        vertical-align: top;\n",
       "    }\n",
       "\n",
       "    .dataframe thead th {\n",
       "        text-align: right;\n",
       "    }\n",
       "</style>\n",
       "<table border=\"1\" class=\"dataframe\">\n",
       "  <thead>\n",
       "    <tr style=\"text-align: right;\">\n",
       "      <th></th>\n",
       "      <th>rank</th>\n",
       "      <th>finalWorth</th>\n",
       "      <th>category</th>\n",
       "      <th>personName</th>\n",
       "      <th>age</th>\n",
       "      <th>country</th>\n",
       "      <th>city</th>\n",
       "      <th>source</th>\n",
       "      <th>industries</th>\n",
       "      <th>countryOfCitizenship</th>\n",
       "      <th>...</th>\n",
       "      <th>cpi_change_country</th>\n",
       "      <th>gdp_country</th>\n",
       "      <th>gross_tertiary_education_enrollment</th>\n",
       "      <th>gross_primary_education_enrollment_country</th>\n",
       "      <th>life_expectancy_country</th>\n",
       "      <th>tax_revenue_country_country</th>\n",
       "      <th>total_tax_rate_country</th>\n",
       "      <th>population_country</th>\n",
       "      <th>latitude_country</th>\n",
       "      <th>longitude_country</th>\n",
       "    </tr>\n",
       "  </thead>\n",
       "  <tbody>\n",
       "    <tr>\n",
       "      <th>0</th>\n",
       "      <td>1</td>\n",
       "      <td>211000</td>\n",
       "      <td>Fashion &amp; Retail</td>\n",
       "      <td>Bernard Arnault &amp; family</td>\n",
       "      <td>74.0</td>\n",
       "      <td>France</td>\n",
       "      <td>Paris</td>\n",
       "      <td>LVMH</td>\n",
       "      <td>Fashion &amp; Retail</td>\n",
       "      <td>France</td>\n",
       "      <td>...</td>\n",
       "      <td>1.1</td>\n",
       "      <td>$2,715,518,274,227</td>\n",
       "      <td>65.6</td>\n",
       "      <td>102.5</td>\n",
       "      <td>82.5</td>\n",
       "      <td>24.2</td>\n",
       "      <td>60.7</td>\n",
       "      <td>6.705989e+07</td>\n",
       "      <td>46.227638</td>\n",
       "      <td>2.213749</td>\n",
       "    </tr>\n",
       "    <tr>\n",
       "      <th>1</th>\n",
       "      <td>2</td>\n",
       "      <td>180000</td>\n",
       "      <td>Automotive</td>\n",
       "      <td>Elon Musk</td>\n",
       "      <td>51.0</td>\n",
       "      <td>United States</td>\n",
       "      <td>Austin</td>\n",
       "      <td>Tesla, SpaceX</td>\n",
       "      <td>Automotive</td>\n",
       "      <td>United States</td>\n",
       "      <td>...</td>\n",
       "      <td>7.5</td>\n",
       "      <td>$21,427,700,000,000</td>\n",
       "      <td>88.2</td>\n",
       "      <td>101.8</td>\n",
       "      <td>78.5</td>\n",
       "      <td>9.6</td>\n",
       "      <td>36.6</td>\n",
       "      <td>3.282395e+08</td>\n",
       "      <td>37.090240</td>\n",
       "      <td>-95.712891</td>\n",
       "    </tr>\n",
       "    <tr>\n",
       "      <th>2</th>\n",
       "      <td>3</td>\n",
       "      <td>114000</td>\n",
       "      <td>Technology</td>\n",
       "      <td>Jeff Bezos</td>\n",
       "      <td>59.0</td>\n",
       "      <td>United States</td>\n",
       "      <td>Medina</td>\n",
       "      <td>Amazon</td>\n",
       "      <td>Technology</td>\n",
       "      <td>United States</td>\n",
       "      <td>...</td>\n",
       "      <td>7.5</td>\n",
       "      <td>$21,427,700,000,000</td>\n",
       "      <td>88.2</td>\n",
       "      <td>101.8</td>\n",
       "      <td>78.5</td>\n",
       "      <td>9.6</td>\n",
       "      <td>36.6</td>\n",
       "      <td>3.282395e+08</td>\n",
       "      <td>37.090240</td>\n",
       "      <td>-95.712891</td>\n",
       "    </tr>\n",
       "    <tr>\n",
       "      <th>3</th>\n",
       "      <td>4</td>\n",
       "      <td>107000</td>\n",
       "      <td>Technology</td>\n",
       "      <td>Larry Ellison</td>\n",
       "      <td>78.0</td>\n",
       "      <td>United States</td>\n",
       "      <td>Lanai</td>\n",
       "      <td>Oracle</td>\n",
       "      <td>Technology</td>\n",
       "      <td>United States</td>\n",
       "      <td>...</td>\n",
       "      <td>7.5</td>\n",
       "      <td>$21,427,700,000,000</td>\n",
       "      <td>88.2</td>\n",
       "      <td>101.8</td>\n",
       "      <td>78.5</td>\n",
       "      <td>9.6</td>\n",
       "      <td>36.6</td>\n",
       "      <td>3.282395e+08</td>\n",
       "      <td>37.090240</td>\n",
       "      <td>-95.712891</td>\n",
       "    </tr>\n",
       "    <tr>\n",
       "      <th>4</th>\n",
       "      <td>5</td>\n",
       "      <td>106000</td>\n",
       "      <td>Finance &amp; Investments</td>\n",
       "      <td>Warren Buffett</td>\n",
       "      <td>92.0</td>\n",
       "      <td>United States</td>\n",
       "      <td>Omaha</td>\n",
       "      <td>Berkshire Hathaway</td>\n",
       "      <td>Finance &amp; Investments</td>\n",
       "      <td>United States</td>\n",
       "      <td>...</td>\n",
       "      <td>7.5</td>\n",
       "      <td>$21,427,700,000,000</td>\n",
       "      <td>88.2</td>\n",
       "      <td>101.8</td>\n",
       "      <td>78.5</td>\n",
       "      <td>9.6</td>\n",
       "      <td>36.6</td>\n",
       "      <td>3.282395e+08</td>\n",
       "      <td>37.090240</td>\n",
       "      <td>-95.712891</td>\n",
       "    </tr>\n",
       "    <tr>\n",
       "      <th>5</th>\n",
       "      <td>6</td>\n",
       "      <td>104000</td>\n",
       "      <td>Technology</td>\n",
       "      <td>Bill Gates</td>\n",
       "      <td>67.0</td>\n",
       "      <td>United States</td>\n",
       "      <td>Medina</td>\n",
       "      <td>Microsoft</td>\n",
       "      <td>Technology</td>\n",
       "      <td>United States</td>\n",
       "      <td>...</td>\n",
       "      <td>7.5</td>\n",
       "      <td>$21,427,700,000,000</td>\n",
       "      <td>88.2</td>\n",
       "      <td>101.8</td>\n",
       "      <td>78.5</td>\n",
       "      <td>9.6</td>\n",
       "      <td>36.6</td>\n",
       "      <td>3.282395e+08</td>\n",
       "      <td>37.090240</td>\n",
       "      <td>-95.712891</td>\n",
       "    </tr>\n",
       "    <tr>\n",
       "      <th>6</th>\n",
       "      <td>7</td>\n",
       "      <td>94500</td>\n",
       "      <td>Media &amp; Entertainment</td>\n",
       "      <td>Michael Bloomberg</td>\n",
       "      <td>81.0</td>\n",
       "      <td>United States</td>\n",
       "      <td>New York</td>\n",
       "      <td>Bloomberg LP</td>\n",
       "      <td>Media &amp; Entertainment</td>\n",
       "      <td>United States</td>\n",
       "      <td>...</td>\n",
       "      <td>7.5</td>\n",
       "      <td>$21,427,700,000,000</td>\n",
       "      <td>88.2</td>\n",
       "      <td>101.8</td>\n",
       "      <td>78.5</td>\n",
       "      <td>9.6</td>\n",
       "      <td>36.6</td>\n",
       "      <td>3.282395e+08</td>\n",
       "      <td>37.090240</td>\n",
       "      <td>-95.712891</td>\n",
       "    </tr>\n",
       "    <tr>\n",
       "      <th>7</th>\n",
       "      <td>8</td>\n",
       "      <td>93000</td>\n",
       "      <td>Telecom</td>\n",
       "      <td>Carlos Slim Helu &amp; family</td>\n",
       "      <td>83.0</td>\n",
       "      <td>Mexico</td>\n",
       "      <td>Mexico City</td>\n",
       "      <td>Telecom</td>\n",
       "      <td>Telecom</td>\n",
       "      <td>Mexico</td>\n",
       "      <td>...</td>\n",
       "      <td>3.6</td>\n",
       "      <td>$1,258,286,717,125</td>\n",
       "      <td>40.2</td>\n",
       "      <td>105.8</td>\n",
       "      <td>75.0</td>\n",
       "      <td>13.1</td>\n",
       "      <td>55.1</td>\n",
       "      <td>1.260140e+08</td>\n",
       "      <td>23.634501</td>\n",
       "      <td>-102.552784</td>\n",
       "    </tr>\n",
       "    <tr>\n",
       "      <th>8</th>\n",
       "      <td>9</td>\n",
       "      <td>83400</td>\n",
       "      <td>Diversified</td>\n",
       "      <td>Mukesh Ambani</td>\n",
       "      <td>65.0</td>\n",
       "      <td>India</td>\n",
       "      <td>Mumbai</td>\n",
       "      <td>Diversified</td>\n",
       "      <td>Diversified</td>\n",
       "      <td>India</td>\n",
       "      <td>...</td>\n",
       "      <td>7.7</td>\n",
       "      <td>$2,611,000,000,000</td>\n",
       "      <td>28.1</td>\n",
       "      <td>113.0</td>\n",
       "      <td>69.4</td>\n",
       "      <td>11.2</td>\n",
       "      <td>49.7</td>\n",
       "      <td>1.366418e+09</td>\n",
       "      <td>20.593684</td>\n",
       "      <td>78.962880</td>\n",
       "    </tr>\n",
       "    <tr>\n",
       "      <th>9</th>\n",
       "      <td>10</td>\n",
       "      <td>80700</td>\n",
       "      <td>Technology</td>\n",
       "      <td>Steve Ballmer</td>\n",
       "      <td>67.0</td>\n",
       "      <td>United States</td>\n",
       "      <td>Hunts Point</td>\n",
       "      <td>Microsoft</td>\n",
       "      <td>Technology</td>\n",
       "      <td>United States</td>\n",
       "      <td>...</td>\n",
       "      <td>7.5</td>\n",
       "      <td>$21,427,700,000,000</td>\n",
       "      <td>88.2</td>\n",
       "      <td>101.8</td>\n",
       "      <td>78.5</td>\n",
       "      <td>9.6</td>\n",
       "      <td>36.6</td>\n",
       "      <td>3.282395e+08</td>\n",
       "      <td>37.090240</td>\n",
       "      <td>-95.712891</td>\n",
       "    </tr>\n",
       "  </tbody>\n",
       "</table>\n",
       "<p>10 rows × 35 columns</p>\n",
       "</div>"
      ],
      "text/plain": [
       "   rank  finalWorth               category                 personName   age  \\\n",
       "0     1      211000       Fashion & Retail   Bernard Arnault & family  74.0   \n",
       "1     2      180000             Automotive                  Elon Musk  51.0   \n",
       "2     3      114000             Technology                 Jeff Bezos  59.0   \n",
       "3     4      107000             Technology              Larry Ellison  78.0   \n",
       "4     5      106000  Finance & Investments             Warren Buffett  92.0   \n",
       "5     6      104000             Technology                 Bill Gates  67.0   \n",
       "6     7       94500  Media & Entertainment          Michael Bloomberg  81.0   \n",
       "7     8       93000                Telecom  Carlos Slim Helu & family  83.0   \n",
       "8     9       83400            Diversified              Mukesh Ambani  65.0   \n",
       "9    10       80700             Technology              Steve Ballmer  67.0   \n",
       "\n",
       "         country         city              source             industries  \\\n",
       "0         France        Paris                LVMH       Fashion & Retail   \n",
       "1  United States       Austin       Tesla, SpaceX             Automotive   \n",
       "2  United States       Medina              Amazon             Technology   \n",
       "3  United States        Lanai              Oracle             Technology   \n",
       "4  United States        Omaha  Berkshire Hathaway  Finance & Investments   \n",
       "5  United States       Medina           Microsoft             Technology   \n",
       "6  United States     New York        Bloomberg LP  Media & Entertainment   \n",
       "7         Mexico  Mexico City             Telecom                Telecom   \n",
       "8          India       Mumbai         Diversified            Diversified   \n",
       "9  United States  Hunts Point           Microsoft             Technology   \n",
       "\n",
       "  countryOfCitizenship  ... cpi_change_country           gdp_country  \\\n",
       "0               France  ...                1.1   $2,715,518,274,227    \n",
       "1        United States  ...                7.5  $21,427,700,000,000    \n",
       "2        United States  ...                7.5  $21,427,700,000,000    \n",
       "3        United States  ...                7.5  $21,427,700,000,000    \n",
       "4        United States  ...                7.5  $21,427,700,000,000    \n",
       "5        United States  ...                7.5  $21,427,700,000,000    \n",
       "6        United States  ...                7.5  $21,427,700,000,000    \n",
       "7               Mexico  ...                3.6   $1,258,286,717,125    \n",
       "8                India  ...                7.7   $2,611,000,000,000    \n",
       "9        United States  ...                7.5  $21,427,700,000,000    \n",
       "\n",
       "  gross_tertiary_education_enrollment  \\\n",
       "0                                65.6   \n",
       "1                                88.2   \n",
       "2                                88.2   \n",
       "3                                88.2   \n",
       "4                                88.2   \n",
       "5                                88.2   \n",
       "6                                88.2   \n",
       "7                                40.2   \n",
       "8                                28.1   \n",
       "9                                88.2   \n",
       "\n",
       "  gross_primary_education_enrollment_country life_expectancy_country  \\\n",
       "0                                      102.5                    82.5   \n",
       "1                                      101.8                    78.5   \n",
       "2                                      101.8                    78.5   \n",
       "3                                      101.8                    78.5   \n",
       "4                                      101.8                    78.5   \n",
       "5                                      101.8                    78.5   \n",
       "6                                      101.8                    78.5   \n",
       "7                                      105.8                    75.0   \n",
       "8                                      113.0                    69.4   \n",
       "9                                      101.8                    78.5   \n",
       "\n",
       "  tax_revenue_country_country total_tax_rate_country population_country  \\\n",
       "0                        24.2                   60.7       6.705989e+07   \n",
       "1                         9.6                   36.6       3.282395e+08   \n",
       "2                         9.6                   36.6       3.282395e+08   \n",
       "3                         9.6                   36.6       3.282395e+08   \n",
       "4                         9.6                   36.6       3.282395e+08   \n",
       "5                         9.6                   36.6       3.282395e+08   \n",
       "6                         9.6                   36.6       3.282395e+08   \n",
       "7                        13.1                   55.1       1.260140e+08   \n",
       "8                        11.2                   49.7       1.366418e+09   \n",
       "9                         9.6                   36.6       3.282395e+08   \n",
       "\n",
       "  latitude_country longitude_country  \n",
       "0        46.227638          2.213749  \n",
       "1        37.090240        -95.712891  \n",
       "2        37.090240        -95.712891  \n",
       "3        37.090240        -95.712891  \n",
       "4        37.090240        -95.712891  \n",
       "5        37.090240        -95.712891  \n",
       "6        37.090240        -95.712891  \n",
       "7        23.634501       -102.552784  \n",
       "8        20.593684         78.962880  \n",
       "9        37.090240        -95.712891  \n",
       "\n",
       "[10 rows x 35 columns]"
      ]
     },
     "execution_count": 26,
     "metadata": {},
     "output_type": "execute_result"
    }
   ],
   "source": [
    "import pandas as pd\n",
    "import numpy as np\n",
    "import matplotlib.pyplot as plt\n",
    "import seaborn as sns\n",
    "import plotly.express as px\n",
    "\n",
    "# Importing data\n",
    "data = pd.read_csv('Billionaires Statistics Dataset.csv')\n",
    "data.head(n=10)"
   ]
  },
  {
   "cell_type": "markdown",
   "metadata": {},
   "source": [
    "### Step 2: 🧹 Data Wrangling"
   ]
  },
  {
   "cell_type": "code",
   "execution_count": 27,
   "metadata": {},
   "outputs": [],
   "source": [
    "# Ommiting any columns that won't be relevant to the project\n",
    "\n",
    "data = data[[#'rank', 'finalWorth', 'category', 'personName', \n",
    "      'age', 'country','city', \n",
    "      #'source', \n",
    "      'industries', \n",
    "      # 'countryOfCitizenship', 'organization', \n",
    "      'selfMade', \n",
    "      #'status', 'gender', 'birthDate', 'lastName', 'firstName', 'title', 'date', 'state', 'residenceStateRegion', 'birthYear','birthMonth', 'birthDay', \n",
    "      'cpi_country', 'cpi_change_country', 'gdp_country', 'gross_tertiary_education_enrollment', 'gross_primary_education_enrollment_country', \n",
    "      #'life_expectancy_country',\n",
    "      'tax_revenue_country_country', 'total_tax_rate_country','population_country', 'latitude_country', 'longitude_country'\n",
    "      ]]\n",
    "\n",
    "# Dropping dupes\n",
    "data = data.drop_duplicates()\n",
    "\n",
    "# Replace True/False to 1 & 0 in the 'selfMade' column to make data easier to work with\n",
    "data = data.replace({'selfMade': {True:1, False:0}})"
   ]
  },
  {
   "cell_type": "markdown",
   "metadata": {},
   "source": [
    "### Step 3: 📊 Data Manipulation & plots"
   ]
  },
  {
   "cell_type": "code",
   "execution_count": 28,
   "metadata": {},
   "outputs": [
    {
     "data": {
      "text/html": [
       "<div>\n",
       "<style scoped>\n",
       "    .dataframe tbody tr th:only-of-type {\n",
       "        vertical-align: middle;\n",
       "    }\n",
       "\n",
       "    .dataframe tbody tr th {\n",
       "        vertical-align: top;\n",
       "    }\n",
       "\n",
       "    .dataframe thead th {\n",
       "        text-align: right;\n",
       "    }\n",
       "</style>\n",
       "<table border=\"1\" class=\"dataframe\">\n",
       "  <thead>\n",
       "    <tr style=\"text-align: right;\">\n",
       "      <th></th>\n",
       "      <th>age</th>\n",
       "      <th>cpi_country</th>\n",
       "      <th>selfMade</th>\n",
       "      <th>tax_revenue_country_country</th>\n",
       "      <th>gross_primary_education_enrollment_country</th>\n",
       "    </tr>\n",
       "  </thead>\n",
       "  <tbody>\n",
       "    <tr>\n",
       "      <th>count</th>\n",
       "      <td>2448.000000</td>\n",
       "      <td>2329.000000</td>\n",
       "      <td>2500.000000</td>\n",
       "      <td>2330.000000</td>\n",
       "      <td>2332.000000</td>\n",
       "    </tr>\n",
       "    <tr>\n",
       "      <th>mean</th>\n",
       "      <td>65.363154</td>\n",
       "      <td>127.536668</td>\n",
       "      <td>0.680000</td>\n",
       "      <td>12.622575</td>\n",
       "      <td>102.848199</td>\n",
       "    </tr>\n",
       "    <tr>\n",
       "      <th>std</th>\n",
       "      <td>13.353852</td>\n",
       "      <td>26.534453</td>\n",
       "      <td>0.466569</td>\n",
       "      <td>5.426491</td>\n",
       "      <td>4.715135</td>\n",
       "    </tr>\n",
       "    <tr>\n",
       "      <th>min</th>\n",
       "      <td>18.000000</td>\n",
       "      <td>99.550000</td>\n",
       "      <td>0.000000</td>\n",
       "      <td>0.100000</td>\n",
       "      <td>84.700000</td>\n",
       "    </tr>\n",
       "    <tr>\n",
       "      <th>25%</th>\n",
       "      <td>56.000000</td>\n",
       "      <td>116.760000</td>\n",
       "      <td>0.000000</td>\n",
       "      <td>9.600000</td>\n",
       "      <td>100.200000</td>\n",
       "    </tr>\n",
       "    <tr>\n",
       "      <th>50%</th>\n",
       "      <td>65.000000</td>\n",
       "      <td>117.240000</td>\n",
       "      <td>1.000000</td>\n",
       "      <td>9.600000</td>\n",
       "      <td>101.800000</td>\n",
       "    </tr>\n",
       "    <tr>\n",
       "      <th>75%</th>\n",
       "      <td>75.000000</td>\n",
       "      <td>125.080000</td>\n",
       "      <td>1.000000</td>\n",
       "      <td>13.100000</td>\n",
       "      <td>102.600000</td>\n",
       "    </tr>\n",
       "    <tr>\n",
       "      <th>max</th>\n",
       "      <td>101.000000</td>\n",
       "      <td>288.570000</td>\n",
       "      <td>1.000000</td>\n",
       "      <td>37.200000</td>\n",
       "      <td>142.100000</td>\n",
       "    </tr>\n",
       "  </tbody>\n",
       "</table>\n",
       "</div>"
      ],
      "text/plain": [
       "               age  cpi_country     selfMade  tax_revenue_country_country  \\\n",
       "count  2448.000000  2329.000000  2500.000000                  2330.000000   \n",
       "mean     65.363154   127.536668     0.680000                    12.622575   \n",
       "std      13.353852    26.534453     0.466569                     5.426491   \n",
       "min      18.000000    99.550000     0.000000                     0.100000   \n",
       "25%      56.000000   116.760000     0.000000                     9.600000   \n",
       "50%      65.000000   117.240000     1.000000                     9.600000   \n",
       "75%      75.000000   125.080000     1.000000                    13.100000   \n",
       "max     101.000000   288.570000     1.000000                    37.200000   \n",
       "\n",
       "       gross_primary_education_enrollment_country  \n",
       "count                                 2332.000000  \n",
       "mean                                   102.848199  \n",
       "std                                      4.715135  \n",
       "min                                     84.700000  \n",
       "25%                                    100.200000  \n",
       "50%                                    101.800000  \n",
       "75%                                    102.600000  \n",
       "max                                    142.100000  "
      ]
     },
     "execution_count": 28,
     "metadata": {},
     "output_type": "execute_result"
    }
   ],
   "source": [
    "# Descriptive statistics\n",
    "data[['age', 'cpi_country', 'selfMade', 'tax_revenue_country_country', 'gross_primary_education_enrollment_country']].describe()"
   ]
  },
  {
   "cell_type": "code",
   "execution_count": 29,
   "metadata": {},
   "outputs": [
    {
     "data": {
      "text/html": [
       "<div>\n",
       "<style scoped>\n",
       "    .dataframe tbody tr th:only-of-type {\n",
       "        vertical-align: middle;\n",
       "    }\n",
       "\n",
       "    .dataframe tbody tr th {\n",
       "        vertical-align: top;\n",
       "    }\n",
       "\n",
       "    .dataframe thead th {\n",
       "        text-align: right;\n",
       "    }\n",
       "</style>\n",
       "<table border=\"1\" class=\"dataframe\">\n",
       "  <thead>\n",
       "    <tr style=\"text-align: right;\">\n",
       "      <th></th>\n",
       "      <th>country</th>\n",
       "      <th>count</th>\n",
       "    </tr>\n",
       "  </thead>\n",
       "  <tbody>\n",
       "    <tr>\n",
       "      <th>0</th>\n",
       "      <td>United States</td>\n",
       "      <td>712</td>\n",
       "    </tr>\n",
       "    <tr>\n",
       "      <th>1</th>\n",
       "      <td>China</td>\n",
       "      <td>481</td>\n",
       "    </tr>\n",
       "    <tr>\n",
       "      <th>2</th>\n",
       "      <td>India</td>\n",
       "      <td>140</td>\n",
       "    </tr>\n",
       "    <tr>\n",
       "      <th>3</th>\n",
       "      <td>Germany</td>\n",
       "      <td>98</td>\n",
       "    </tr>\n",
       "    <tr>\n",
       "      <th>4</th>\n",
       "      <td>United Kingdom</td>\n",
       "      <td>79</td>\n",
       "    </tr>\n",
       "    <tr>\n",
       "      <th>...</th>\n",
       "      <td>...</td>\n",
       "      <td>...</td>\n",
       "    </tr>\n",
       "    <tr>\n",
       "      <th>73</th>\n",
       "      <td>Portugal</td>\n",
       "      <td>1</td>\n",
       "    </tr>\n",
       "    <tr>\n",
       "      <th>74</th>\n",
       "      <td>Georgia</td>\n",
       "      <td>1</td>\n",
       "    </tr>\n",
       "    <tr>\n",
       "      <th>75</th>\n",
       "      <td>Eswatini (Swaziland)</td>\n",
       "      <td>1</td>\n",
       "    </tr>\n",
       "    <tr>\n",
       "      <th>76</th>\n",
       "      <td>Uzbekistan</td>\n",
       "      <td>1</td>\n",
       "    </tr>\n",
       "    <tr>\n",
       "      <th>77</th>\n",
       "      <td>Armenia</td>\n",
       "      <td>1</td>\n",
       "    </tr>\n",
       "  </tbody>\n",
       "</table>\n",
       "<p>78 rows × 2 columns</p>\n",
       "</div>"
      ],
      "text/plain": [
       "                 country  count\n",
       "0          United States    712\n",
       "1                  China    481\n",
       "2                  India    140\n",
       "3                Germany     98\n",
       "4         United Kingdom     79\n",
       "..                   ...    ...\n",
       "73              Portugal      1\n",
       "74               Georgia      1\n",
       "75  Eswatini (Swaziland)      1\n",
       "76            Uzbekistan      1\n",
       "77               Armenia      1\n",
       "\n",
       "[78 rows x 2 columns]"
      ]
     },
     "execution_count": 29,
     "metadata": {},
     "output_type": "execute_result"
    }
   ],
   "source": [
    "# Show how many billionaires per country\n",
    "country_counts = data['country'].value_counts()\n",
    "count_df = pd.DataFrame(country_counts.items(), columns=['country', 'count'])\n",
    "\n",
    "count_df"
   ]
  },
  {
   "cell_type": "code",
   "execution_count": 30,
   "metadata": {},
   "outputs": [
    {
     "data": {
      "application/vnd.plotly.v1+json": {
       "config": {
        "plotlyServerURL": "https://plot.ly"
       },
       "data": [
        {
         "coloraxis": "coloraxis",
         "geo": "geo",
         "hovertemplate": "country=%{location}<br>count=%{z}<extra></extra>",
         "locationmode": "country names",
         "locations": [
          "United States",
          "China",
          "India",
          "Germany",
          "United Kingdom",
          "Switzerland",
          "Russia",
          "Hong Kong",
          "Italy",
          "Singapore",
          "Brazil",
          "Canada",
          "Taiwan",
          "Australia",
          "Japan",
          "France",
          "South Korea",
          "Israel",
          "Sweden",
          "Turkey",
          "Thailand",
          "Indonesia",
          "Spain",
          "Monaco",
          "United Arab Emirates",
          "Philippines",
          "Mexico",
          "Austria",
          "Malaysia",
          "Netherlands",
          "Norway",
          "Kazakhstan",
          "Denmark",
          "Czech Republic",
          "Finland",
          "Vietnam",
          "Chile",
          "Ukraine",
          "Cyprus",
          "South Africa",
          "Poland",
          "Egypt",
          "Ireland",
          "Argentina",
          "Hungary",
          "Romania",
          "Greece",
          "Nigeria",
          "Belgium",
          "Cayman Islands",
          "Qatar",
          "Lebanon",
          "Slovakia",
          "Bermuda",
          "Morocco",
          "Peru",
          "Bahamas",
          "New Zealand",
          "Turks and Caicos Islands",
          "Nepal",
          "Uruguay",
          "Tanzania",
          "Andorra",
          "Bahrain",
          "Colombia",
          "Liechtenstein",
          "Guernsey",
          "Oman",
          "Cambodia",
          "British Virgin Islands",
          "Luxembourg",
          "Latvia",
          "Algeria",
          "Portugal",
          "Georgia",
          "Eswatini (Swaziland)",
          "Uzbekistan",
          "Armenia"
         ],
         "name": "",
         "type": "choropleth",
         "z": [
          712,
          481,
          140,
          98,
          79,
          77,
          71,
          63,
          54,
          45,
          44,
          42,
          41,
          41,
          38,
          34,
          29,
          25,
          25,
          25,
          25,
          25,
          25,
          17,
          17,
          14,
          13,
          11,
          11,
          10,
          9,
          7,
          7,
          7,
          7,
          6,
          6,
          6,
          5,
          5,
          5,
          4,
          4,
          4,
          3,
          3,
          3,
          3,
          3,
          3,
          2,
          2,
          2,
          2,
          2,
          2,
          2,
          2,
          1,
          1,
          1,
          1,
          1,
          1,
          1,
          1,
          1,
          1,
          1,
          1,
          1,
          1,
          1,
          1,
          1,
          1,
          1,
          1
         ]
        }
       ],
       "layout": {
        "coloraxis": {
         "colorbar": {
          "title": {
           "text": "count"
          }
         },
         "colorscale": [
          [
           0,
           "rgb(214, 249, 207)"
          ],
          [
           0.09090909090909091,
           "rgb(186, 228, 174)"
          ],
          [
           0.18181818181818182,
           "rgb(156, 209, 143)"
          ],
          [
           0.2727272727272727,
           "rgb(124, 191, 115)"
          ],
          [
           0.36363636363636365,
           "rgb(85, 174, 91)"
          ],
          [
           0.45454545454545453,
           "rgb(37, 157, 81)"
          ],
          [
           0.5454545454545454,
           "rgb(7, 138, 78)"
          ],
          [
           0.6363636363636364,
           "rgb(13, 117, 71)"
          ],
          [
           0.7272727272727273,
           "rgb(23, 95, 61)"
          ],
          [
           0.8181818181818182,
           "rgb(25, 75, 49)"
          ],
          [
           0.9090909090909091,
           "rgb(23, 55, 35)"
          ],
          [
           1,
           "rgb(17, 36, 20)"
          ]
         ]
        },
        "geo": {
         "center": {},
         "domain": {
          "x": [
           0,
           1
          ],
          "y": [
           0,
           1
          ]
         }
        },
        "legend": {
         "tracegroupgap": 0
        },
        "template": {
         "data": {
          "bar": [
           {
            "error_x": {
             "color": "#2a3f5f"
            },
            "error_y": {
             "color": "#2a3f5f"
            },
            "marker": {
             "line": {
              "color": "#E5ECF6",
              "width": 0.5
             },
             "pattern": {
              "fillmode": "overlay",
              "size": 10,
              "solidity": 0.2
             }
            },
            "type": "bar"
           }
          ],
          "barpolar": [
           {
            "marker": {
             "line": {
              "color": "#E5ECF6",
              "width": 0.5
             },
             "pattern": {
              "fillmode": "overlay",
              "size": 10,
              "solidity": 0.2
             }
            },
            "type": "barpolar"
           }
          ],
          "carpet": [
           {
            "aaxis": {
             "endlinecolor": "#2a3f5f",
             "gridcolor": "white",
             "linecolor": "white",
             "minorgridcolor": "white",
             "startlinecolor": "#2a3f5f"
            },
            "baxis": {
             "endlinecolor": "#2a3f5f",
             "gridcolor": "white",
             "linecolor": "white",
             "minorgridcolor": "white",
             "startlinecolor": "#2a3f5f"
            },
            "type": "carpet"
           }
          ],
          "choropleth": [
           {
            "colorbar": {
             "outlinewidth": 0,
             "ticks": ""
            },
            "type": "choropleth"
           }
          ],
          "contour": [
           {
            "colorbar": {
             "outlinewidth": 0,
             "ticks": ""
            },
            "colorscale": [
             [
              0,
              "#0d0887"
             ],
             [
              0.1111111111111111,
              "#46039f"
             ],
             [
              0.2222222222222222,
              "#7201a8"
             ],
             [
              0.3333333333333333,
              "#9c179e"
             ],
             [
              0.4444444444444444,
              "#bd3786"
             ],
             [
              0.5555555555555556,
              "#d8576b"
             ],
             [
              0.6666666666666666,
              "#ed7953"
             ],
             [
              0.7777777777777778,
              "#fb9f3a"
             ],
             [
              0.8888888888888888,
              "#fdca26"
             ],
             [
              1,
              "#f0f921"
             ]
            ],
            "type": "contour"
           }
          ],
          "contourcarpet": [
           {
            "colorbar": {
             "outlinewidth": 0,
             "ticks": ""
            },
            "type": "contourcarpet"
           }
          ],
          "heatmap": [
           {
            "colorbar": {
             "outlinewidth": 0,
             "ticks": ""
            },
            "colorscale": [
             [
              0,
              "#0d0887"
             ],
             [
              0.1111111111111111,
              "#46039f"
             ],
             [
              0.2222222222222222,
              "#7201a8"
             ],
             [
              0.3333333333333333,
              "#9c179e"
             ],
             [
              0.4444444444444444,
              "#bd3786"
             ],
             [
              0.5555555555555556,
              "#d8576b"
             ],
             [
              0.6666666666666666,
              "#ed7953"
             ],
             [
              0.7777777777777778,
              "#fb9f3a"
             ],
             [
              0.8888888888888888,
              "#fdca26"
             ],
             [
              1,
              "#f0f921"
             ]
            ],
            "type": "heatmap"
           }
          ],
          "heatmapgl": [
           {
            "colorbar": {
             "outlinewidth": 0,
             "ticks": ""
            },
            "colorscale": [
             [
              0,
              "#0d0887"
             ],
             [
              0.1111111111111111,
              "#46039f"
             ],
             [
              0.2222222222222222,
              "#7201a8"
             ],
             [
              0.3333333333333333,
              "#9c179e"
             ],
             [
              0.4444444444444444,
              "#bd3786"
             ],
             [
              0.5555555555555556,
              "#d8576b"
             ],
             [
              0.6666666666666666,
              "#ed7953"
             ],
             [
              0.7777777777777778,
              "#fb9f3a"
             ],
             [
              0.8888888888888888,
              "#fdca26"
             ],
             [
              1,
              "#f0f921"
             ]
            ],
            "type": "heatmapgl"
           }
          ],
          "histogram": [
           {
            "marker": {
             "pattern": {
              "fillmode": "overlay",
              "size": 10,
              "solidity": 0.2
             }
            },
            "type": "histogram"
           }
          ],
          "histogram2d": [
           {
            "colorbar": {
             "outlinewidth": 0,
             "ticks": ""
            },
            "colorscale": [
             [
              0,
              "#0d0887"
             ],
             [
              0.1111111111111111,
              "#46039f"
             ],
             [
              0.2222222222222222,
              "#7201a8"
             ],
             [
              0.3333333333333333,
              "#9c179e"
             ],
             [
              0.4444444444444444,
              "#bd3786"
             ],
             [
              0.5555555555555556,
              "#d8576b"
             ],
             [
              0.6666666666666666,
              "#ed7953"
             ],
             [
              0.7777777777777778,
              "#fb9f3a"
             ],
             [
              0.8888888888888888,
              "#fdca26"
             ],
             [
              1,
              "#f0f921"
             ]
            ],
            "type": "histogram2d"
           }
          ],
          "histogram2dcontour": [
           {
            "colorbar": {
             "outlinewidth": 0,
             "ticks": ""
            },
            "colorscale": [
             [
              0,
              "#0d0887"
             ],
             [
              0.1111111111111111,
              "#46039f"
             ],
             [
              0.2222222222222222,
              "#7201a8"
             ],
             [
              0.3333333333333333,
              "#9c179e"
             ],
             [
              0.4444444444444444,
              "#bd3786"
             ],
             [
              0.5555555555555556,
              "#d8576b"
             ],
             [
              0.6666666666666666,
              "#ed7953"
             ],
             [
              0.7777777777777778,
              "#fb9f3a"
             ],
             [
              0.8888888888888888,
              "#fdca26"
             ],
             [
              1,
              "#f0f921"
             ]
            ],
            "type": "histogram2dcontour"
           }
          ],
          "mesh3d": [
           {
            "colorbar": {
             "outlinewidth": 0,
             "ticks": ""
            },
            "type": "mesh3d"
           }
          ],
          "parcoords": [
           {
            "line": {
             "colorbar": {
              "outlinewidth": 0,
              "ticks": ""
             }
            },
            "type": "parcoords"
           }
          ],
          "pie": [
           {
            "automargin": true,
            "type": "pie"
           }
          ],
          "scatter": [
           {
            "marker": {
             "colorbar": {
              "outlinewidth": 0,
              "ticks": ""
             }
            },
            "type": "scatter"
           }
          ],
          "scatter3d": [
           {
            "line": {
             "colorbar": {
              "outlinewidth": 0,
              "ticks": ""
             }
            },
            "marker": {
             "colorbar": {
              "outlinewidth": 0,
              "ticks": ""
             }
            },
            "type": "scatter3d"
           }
          ],
          "scattercarpet": [
           {
            "marker": {
             "colorbar": {
              "outlinewidth": 0,
              "ticks": ""
             }
            },
            "type": "scattercarpet"
           }
          ],
          "scattergeo": [
           {
            "marker": {
             "colorbar": {
              "outlinewidth": 0,
              "ticks": ""
             }
            },
            "type": "scattergeo"
           }
          ],
          "scattergl": [
           {
            "marker": {
             "colorbar": {
              "outlinewidth": 0,
              "ticks": ""
             }
            },
            "type": "scattergl"
           }
          ],
          "scattermapbox": [
           {
            "marker": {
             "colorbar": {
              "outlinewidth": 0,
              "ticks": ""
             }
            },
            "type": "scattermapbox"
           }
          ],
          "scatterpolar": [
           {
            "marker": {
             "colorbar": {
              "outlinewidth": 0,
              "ticks": ""
             }
            },
            "type": "scatterpolar"
           }
          ],
          "scatterpolargl": [
           {
            "marker": {
             "colorbar": {
              "outlinewidth": 0,
              "ticks": ""
             }
            },
            "type": "scatterpolargl"
           }
          ],
          "scatterternary": [
           {
            "marker": {
             "colorbar": {
              "outlinewidth": 0,
              "ticks": ""
             }
            },
            "type": "scatterternary"
           }
          ],
          "surface": [
           {
            "colorbar": {
             "outlinewidth": 0,
             "ticks": ""
            },
            "colorscale": [
             [
              0,
              "#0d0887"
             ],
             [
              0.1111111111111111,
              "#46039f"
             ],
             [
              0.2222222222222222,
              "#7201a8"
             ],
             [
              0.3333333333333333,
              "#9c179e"
             ],
             [
              0.4444444444444444,
              "#bd3786"
             ],
             [
              0.5555555555555556,
              "#d8576b"
             ],
             [
              0.6666666666666666,
              "#ed7953"
             ],
             [
              0.7777777777777778,
              "#fb9f3a"
             ],
             [
              0.8888888888888888,
              "#fdca26"
             ],
             [
              1,
              "#f0f921"
             ]
            ],
            "type": "surface"
           }
          ],
          "table": [
           {
            "cells": {
             "fill": {
              "color": "#EBF0F8"
             },
             "line": {
              "color": "white"
             }
            },
            "header": {
             "fill": {
              "color": "#C8D4E3"
             },
             "line": {
              "color": "white"
             }
            },
            "type": "table"
           }
          ]
         },
         "layout": {
          "annotationdefaults": {
           "arrowcolor": "#2a3f5f",
           "arrowhead": 0,
           "arrowwidth": 1
          },
          "autotypenumbers": "strict",
          "coloraxis": {
           "colorbar": {
            "outlinewidth": 0,
            "ticks": ""
           }
          },
          "colorscale": {
           "diverging": [
            [
             0,
             "#8e0152"
            ],
            [
             0.1,
             "#c51b7d"
            ],
            [
             0.2,
             "#de77ae"
            ],
            [
             0.3,
             "#f1b6da"
            ],
            [
             0.4,
             "#fde0ef"
            ],
            [
             0.5,
             "#f7f7f7"
            ],
            [
             0.6,
             "#e6f5d0"
            ],
            [
             0.7,
             "#b8e186"
            ],
            [
             0.8,
             "#7fbc41"
            ],
            [
             0.9,
             "#4d9221"
            ],
            [
             1,
             "#276419"
            ]
           ],
           "sequential": [
            [
             0,
             "#0d0887"
            ],
            [
             0.1111111111111111,
             "#46039f"
            ],
            [
             0.2222222222222222,
             "#7201a8"
            ],
            [
             0.3333333333333333,
             "#9c179e"
            ],
            [
             0.4444444444444444,
             "#bd3786"
            ],
            [
             0.5555555555555556,
             "#d8576b"
            ],
            [
             0.6666666666666666,
             "#ed7953"
            ],
            [
             0.7777777777777778,
             "#fb9f3a"
            ],
            [
             0.8888888888888888,
             "#fdca26"
            ],
            [
             1,
             "#f0f921"
            ]
           ],
           "sequentialminus": [
            [
             0,
             "#0d0887"
            ],
            [
             0.1111111111111111,
             "#46039f"
            ],
            [
             0.2222222222222222,
             "#7201a8"
            ],
            [
             0.3333333333333333,
             "#9c179e"
            ],
            [
             0.4444444444444444,
             "#bd3786"
            ],
            [
             0.5555555555555556,
             "#d8576b"
            ],
            [
             0.6666666666666666,
             "#ed7953"
            ],
            [
             0.7777777777777778,
             "#fb9f3a"
            ],
            [
             0.8888888888888888,
             "#fdca26"
            ],
            [
             1,
             "#f0f921"
            ]
           ]
          },
          "colorway": [
           "#636efa",
           "#EF553B",
           "#00cc96",
           "#ab63fa",
           "#FFA15A",
           "#19d3f3",
           "#FF6692",
           "#B6E880",
           "#FF97FF",
           "#FECB52"
          ],
          "font": {
           "color": "#2a3f5f"
          },
          "geo": {
           "bgcolor": "white",
           "lakecolor": "white",
           "landcolor": "#E5ECF6",
           "showlakes": true,
           "showland": true,
           "subunitcolor": "white"
          },
          "hoverlabel": {
           "align": "left"
          },
          "hovermode": "closest",
          "mapbox": {
           "style": "light"
          },
          "paper_bgcolor": "white",
          "plot_bgcolor": "#E5ECF6",
          "polar": {
           "angularaxis": {
            "gridcolor": "white",
            "linecolor": "white",
            "ticks": ""
           },
           "bgcolor": "#E5ECF6",
           "radialaxis": {
            "gridcolor": "white",
            "linecolor": "white",
            "ticks": ""
           }
          },
          "scene": {
           "xaxis": {
            "backgroundcolor": "#E5ECF6",
            "gridcolor": "white",
            "gridwidth": 2,
            "linecolor": "white",
            "showbackground": true,
            "ticks": "",
            "zerolinecolor": "white"
           },
           "yaxis": {
            "backgroundcolor": "#E5ECF6",
            "gridcolor": "white",
            "gridwidth": 2,
            "linecolor": "white",
            "showbackground": true,
            "ticks": "",
            "zerolinecolor": "white"
           },
           "zaxis": {
            "backgroundcolor": "#E5ECF6",
            "gridcolor": "white",
            "gridwidth": 2,
            "linecolor": "white",
            "showbackground": true,
            "ticks": "",
            "zerolinecolor": "white"
           }
          },
          "shapedefaults": {
           "line": {
            "color": "#2a3f5f"
           }
          },
          "ternary": {
           "aaxis": {
            "gridcolor": "white",
            "linecolor": "white",
            "ticks": ""
           },
           "baxis": {
            "gridcolor": "white",
            "linecolor": "white",
            "ticks": ""
           },
           "bgcolor": "#E5ECF6",
           "caxis": {
            "gridcolor": "white",
            "linecolor": "white",
            "ticks": ""
           }
          },
          "title": {
           "x": 0.05
          },
          "xaxis": {
           "automargin": true,
           "gridcolor": "white",
           "linecolor": "white",
           "ticks": "",
           "title": {
            "standoff": 15
           },
           "zerolinecolor": "white",
           "zerolinewidth": 2
          },
          "yaxis": {
           "automargin": true,
           "gridcolor": "white",
           "linecolor": "white",
           "ticks": "",
           "title": {
            "standoff": 15
           },
           "zerolinecolor": "white",
           "zerolinewidth": 2
          }
         }
        },
        "title": {
         "text": "Billionaires per country"
        },
        "width": 700
       }
      }
     },
     "metadata": {},
     "output_type": "display_data"
    }
   ],
   "source": [
    "# Chropleth plot showing the density of billionaires per country\n",
    "# Reference 2\n",
    "\n",
    "fig = px.choropleth(count_df,\n",
    "                    locations='country',\n",
    "                    locationmode='country names',\n",
    "                    color='count',\n",
    "                    color_continuous_scale=\"algae\",\n",
    "                    title='Billionaires per country',\n",
    "                    labels={'billionaires': 'billionaires'},\n",
    "                    width=700)\n",
    "\n",
    "fig.show()"
   ]
  },
  {
   "cell_type": "code",
   "execution_count": 31,
   "metadata": {},
   "outputs": [
    {
     "data": {
      "text/html": [
       "<div>\n",
       "<style scoped>\n",
       "    .dataframe tbody tr th:only-of-type {\n",
       "        vertical-align: middle;\n",
       "    }\n",
       "\n",
       "    .dataframe tbody tr th {\n",
       "        vertical-align: top;\n",
       "    }\n",
       "\n",
       "    .dataframe thead th {\n",
       "        text-align: right;\n",
       "    }\n",
       "</style>\n",
       "<table border=\"1\" class=\"dataframe\">\n",
       "  <thead>\n",
       "    <tr style=\"text-align: right;\">\n",
       "      <th></th>\n",
       "      <th>age</th>\n",
       "      <th>selfMade</th>\n",
       "      <th>cpi_country</th>\n",
       "      <th>cpi_change_country</th>\n",
       "      <th>gross_tertiary_education_enrollment</th>\n",
       "      <th>gross_primary_education_enrollment_country</th>\n",
       "      <th>tax_revenue_country_country</th>\n",
       "      <th>total_tax_rate_country</th>\n",
       "      <th>population_country</th>\n",
       "      <th>latitude_country</th>\n",
       "      <th>longitude_country</th>\n",
       "      <th>count</th>\n",
       "    </tr>\n",
       "    <tr>\n",
       "      <th>group</th>\n",
       "      <th></th>\n",
       "      <th></th>\n",
       "      <th></th>\n",
       "      <th></th>\n",
       "      <th></th>\n",
       "      <th></th>\n",
       "      <th></th>\n",
       "      <th></th>\n",
       "      <th></th>\n",
       "      <th></th>\n",
       "      <th></th>\n",
       "      <th></th>\n",
       "    </tr>\n",
       "  </thead>\n",
       "  <tbody>\n",
       "    <tr>\n",
       "      <th>Other countries</th>\n",
       "      <td>66.356256</td>\n",
       "      <td>0.605239</td>\n",
       "      <td>130.371537</td>\n",
       "      <td>2.386748</td>\n",
       "      <td>65.656000</td>\n",
       "      <td>103.387569</td>\n",
       "      <td>17.084538</td>\n",
       "      <td>39.816333</td>\n",
       "      <td>6.534511e+07</td>\n",
       "      <td>33.076975</td>\n",
       "      <td>36.800544</td>\n",
       "      <td>1069.0</td>\n",
       "    </tr>\n",
       "    <tr>\n",
       "      <th>US, CN, IND, GER</th>\n",
       "      <td>64.620985</td>\n",
       "      <td>0.735849</td>\n",
       "      <td>125.757694</td>\n",
       "      <td>5.555625</td>\n",
       "      <td>68.449057</td>\n",
       "      <td>102.508595</td>\n",
       "      <td>9.819427</td>\n",
       "      <td>46.313627</td>\n",
       "      <td>7.725038e+08</td>\n",
       "      <td>36.027298</td>\n",
       "      <td>-4.158309</td>\n",
       "      <td>1431.0</td>\n",
       "    </tr>\n",
       "  </tbody>\n",
       "</table>\n",
       "</div>"
      ],
      "text/plain": [
       "                        age  selfMade  cpi_country  cpi_change_country  \\\n",
       "group                                                                    \n",
       "Other countries   66.356256  0.605239   130.371537            2.386748   \n",
       "US, CN, IND, GER  64.620985  0.735849   125.757694            5.555625   \n",
       "\n",
       "                  gross_tertiary_education_enrollment  \\\n",
       "group                                                   \n",
       "Other countries                             65.656000   \n",
       "US, CN, IND, GER                            68.449057   \n",
       "\n",
       "                  gross_primary_education_enrollment_country  \\\n",
       "group                                                          \n",
       "Other countries                                   103.387569   \n",
       "US, CN, IND, GER                                  102.508595   \n",
       "\n",
       "                  tax_revenue_country_country  total_tax_rate_country  \\\n",
       "group                                                                   \n",
       "Other countries                     17.084538               39.816333   \n",
       "US, CN, IND, GER                     9.819427               46.313627   \n",
       "\n",
       "                  population_country  latitude_country  longitude_country  \\\n",
       "group                                                                       \n",
       "Other countries         6.534511e+07         33.076975          36.800544   \n",
       "US, CN, IND, GER        7.725038e+08         36.027298          -4.158309   \n",
       "\n",
       "                   count  \n",
       "group                     \n",
       "Other countries   1069.0  \n",
       "US, CN, IND, GER  1431.0  "
      ]
     },
     "execution_count": 31,
     "metadata": {},
     "output_type": "execute_result"
    }
   ],
   "source": [
    "# We can see there's a high concentration of billionaires in United States, China, India & Germany\n",
    "# Reference 3\n",
    "def categorize_country(country):\n",
    "    if country in ['United States', 'China', 'India', 'Germany']:\n",
    "        return 'US, CN, IND, GER'\n",
    "    else:\n",
    "        return 'Other countries'\n",
    "\n",
    "data['group'] = data['country'].apply(categorize_country)\n",
    "\n",
    "# Make a new columns called 'count' that shows how many billionaires are in each group\n",
    "data['count'] = data.groupby('group')['group'].transform('count')\n",
    "\n",
    "\n",
    "grouped = data.groupby('group')\n",
    "mean_values = grouped.mean()\n",
    "\n",
    "mean_values"
   ]
  },
  {
   "cell_type": "code",
   "execution_count": 32,
   "metadata": {},
   "outputs": [
    {
     "data": {
      "image/png": "[encoded data removed]",
      "text/plain": [
       "<Figure size 432x288 with 1 Axes>"
      ]
     },
     "metadata": {
      "needs_background": "light"
     },
     "output_type": "display_data"
    }
   ],
   "source": [
    "# Kernel Density Plot of 'gross tertiary education enrollment'\n",
    "\n",
    "custom_palette = {'US, CN, IND, GER': 'darkgreen', 'Other countries': 'limegreen'}\n",
    "\n",
    "sns.kdeplot(data=data, x='gross_tertiary_education_enrollment', hue='group', common_norm=False, palette=custom_palette, shade=True)\n",
    "plt.suptitle('KDE Plot gross tertiary education enrollment', y=1)\n",
    "plt.show()"
   ]
  },
  {
   "cell_type": "code",
   "execution_count": 33,
   "metadata": {},
   "outputs": [
    {
     "data": {
      "image/png": "[encoded data removed]",
      "text/plain": [
       "<Figure size 432x288 with 2 Axes>"
      ]
     },
     "metadata": {
      "needs_background": "light"
     },
     "output_type": "display_data"
    }
   ],
   "source": [
    "# Correlation Analysis via heatmap\n",
    "# Used pearsons correlation\n",
    "correlation = data.corr(method='pearson')\n",
    "\n",
    "sns.heatmap(correlation, annot=True, cmap='Greens', fmt=\".2f\")\n",
    "plt.show()"
   ]
  },
  {
   "cell_type": "markdown",
   "metadata": {},
   "source": [
    "### 👨🏾‍🔬Analysis\n",
    "---\n",
    "\n",
    "* In the heatmap, we can see that the billionaire count of the countries is positively correlated with the population. Further, upon looking at the mean population of the countries, we could see that the US, CN, IND, and GER, on average, had a 10x higher population than the rest of the countries. This finding may indicate that larger populations are associated with a higher billionaire count. This could be due to larger markets and more business opportunities.\n",
    "\n",
    "* The heat map also shows a strong positive correlation between the cpi change of a country and its billionaire count. This implies that periods of economic growth are conducive to wealth accumulation, thus the emergence of more billionaires.\n",
    "\n",
    "\n",
    "* My final finding in the heatmap is the strong negative correlation between the tax revenue of a country and its billionaire count. This correlation suggests that higher tax revenue reduces income. As a result, this can lead to less extreme wealth accumulation. This finding is further reinforced by the fact that, in cell 24, the top 4 countries in terms of billionaire count have nearly 50% less tax revenue compared to the rest of the countries on average, which explains the polarity of the billionaire counts.\n",
    "\n",
    "\n",
    "* Another interesting finding is that if you direct your attention to cell 25, we can see that the four countries with the majority of the world's billionaires have a higher density of the population that has attended tertiary education (post-graduate institutions). This may indicate that a more educated population can lead to a higher billionaire count in the underlying countries.\n",
    "\n",
    "* One last observation is that the US, CN, IND, and GER have nearly 25% more self-made billionaires (cell 16). According to my graphs, the emergence of new self-made billionaires can be partly due to the factors mentioned previously.\n",
    "\n",
    "### 📖 References        \n",
    "\n",
    "* For the project layout and format I consulted: youtube: https://www.youtube.com/watch?v=QAVrSm-NiBo\n",
    "\n",
    "* Consulted Lectures 14-21 of the Scientific Data Analysis Lectures offered at Ontario Tech University 2023.\n",
    "\n",
    "* Consulted Lecture 15 of the Statistics and Probability for Physical Science offered at Ontario Tech University 2023 (for pearson correlation).\n",
    "\n"
   ]
  }
 ],
 "metadata": {
  "kernelspec": {
   "display_name": "base",
   "language": "python",
   "name": "python3"
  },
  "language_info": {
   "codemirror_mode": {
    "name": "ipython",
    "version": 3
   },
   "file_extension": ".py",
   "mimetype": "text/x-python",
   "name": "python",
   "nbconvert_exporter": "python",
   "pygments_lexer": "ipython3",
   "version": "3.9.12"
  }
 },
 "nbformat": 4,
 "nbformat_minor": 2
}
